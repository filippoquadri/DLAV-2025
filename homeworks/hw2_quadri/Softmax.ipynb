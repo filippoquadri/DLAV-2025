{
 "cells": [
  {
   "cell_type": "markdown",
   "metadata": {
    "id": "xJrRJLBS7DWn"
   },
   "source": [
    "# Softmax exercise\n",
    "\n",
    "We will implement a softmax classifier that is trained on the CIFAR10 dataset. The output is a model that is able to classify the input image into the 10 different classes of the CIFAR10 dataset.\n",
    "\n",
    "Complete and hand in this completed worksheet (including its outputs and any supporting code outside of the worksheet) with your assignment submission.\n",
    "\n",
    "You will:\n",
    "\n",
    "- implement a fully-vectorized **loss function** for the Softmax classifier\n",
    "- implement the fully-vectorized expression for its **analytic gradient**\n",
    "- use a validation set to **tune the learning rate** strength\n",
    "- **optimize** the loss function with **SGD**\n",
    "- **visualize** the final learned weights\n"
   ]
  },
  {
   "cell_type": "code",
   "execution_count": 1,
   "metadata": {
    "id": "KQ8b6HtX7DWs"
   },
   "outputs": [],
   "source": [
    "import random\n",
    "import numpy as np\n",
    "import matplotlib.pyplot as plt\n",
    "import time\n",
    "import pickle\n",
    "from random import shuffle\n",
    "\n",
    "# from six.moves import cPickle as pickle\n",
    "import numpy as np\n",
    "import os\n",
    "from imageio import imread\n",
    "import platform\n",
    "from torchvision import datasets\n",
    "\n",
    "\n",
    "%matplotlib inline\n",
    "plt.rcParams['figure.figsize'] = (10.0, 8.0) # set default size of plots\n",
    "plt.rcParams['image.interpolation'] = 'nearest'\n",
    "plt.rcParams['image.cmap'] = 'gray'\n",
    "\n",
    "# for auto-reloading extenrnal modules\n",
    "# see http://stackoverflow.com/questions/1907993/autoreload-of-modules-in-ipython\n",
    "%load_ext autoreload\n",
    "%autoreload 2"
   ]
  },
  {
   "cell_type": "code",
   "execution_count": 2,
   "metadata": {
    "id": "rb1FNWrPvqVB"
   },
   "outputs": [],
   "source": [
    "# from google.colab import drive\n",
    "# drive.mount('/content/drive')"
   ]
  },
  {
   "cell_type": "markdown",
   "metadata": {
    "id": "pmv_iR7VumNQ"
   },
   "source": [
    "Load the dataset"
   ]
  },
  {
   "cell_type": "code",
   "execution_count": 3,
   "metadata": {
    "id": "vW0orz8Z7O0e"
   },
   "outputs": [
    {
     "name": "stdout",
     "output_type": "stream",
     "text": [
      "Train data shape:  (49000, 3073)\n",
      "Train labels shape:  (49000,)\n",
      "Validation data shape:  (1000, 3073)\n",
      "Validation labels shape:  (1000,)\n"
     ]
    }
   ],
   "source": [
    "def load_pickle(f):\n",
    "    version = platform.python_version_tuple()\n",
    "    if version[0] == '2':\n",
    "        return  pickle.load(f)\n",
    "    elif version[0] == '3':\n",
    "        return  pickle.load(f, encoding='latin1')\n",
    "    raise ValueError(\"invalid python version: {}\".format(version))\n",
    "\n",
    "def load_CIFAR_batch(filename):\n",
    "  \"\"\" load single batch of cifar \"\"\"\n",
    "  with open(filename, 'rb') as f:\n",
    "    datadict = load_pickle(f)\n",
    "    X = datadict['data']\n",
    "    Y = datadict['labels']\n",
    "    X = X.reshape(10000, 3, 32, 32).transpose(0,2,3,1).astype(\"float\")\n",
    "    Y = np.array(Y)\n",
    "    return X, Y\n",
    "\n",
    "def load_CIFAR10(ROOT):\n",
    "  \"\"\" load all of cifar \"\"\"\n",
    "  xs = []\n",
    "  ys = []\n",
    "  datasets.CIFAR10(\n",
    "        root=\"data/\", train=True,\n",
    "        download=True, transform=None,\n",
    "    )\n",
    "  for b in range(1,6):\n",
    "    f = os.path.join(ROOT, 'data_batch_%d' % (b, ))\n",
    "    X, Y = load_CIFAR_batch(f)\n",
    "    xs.append(X)\n",
    "    ys.append(Y)    \n",
    "  Xtr = np.concatenate(xs)\n",
    "  Ytr = np.concatenate(ys)\n",
    "  del X, Y\n",
    "  return Xtr, Ytr\n",
    "\n",
    "    \n",
    "def get_CIFAR10_data(num_training=49000, num_validation=1000, num_test=1000):\n",
    "    \"\"\"\n",
    "    Load the CIFAR-10 dataset from disk and perform preprocessing to prepare\n",
    "    it for the linear classifier.  \n",
    "    \"\"\"\n",
    "    # Load the raw CIFAR-10 data\n",
    "    cifar10_dir = 'data/cifar-10-batches-py'\n",
    "    X_train, y_train = load_CIFAR10(cifar10_dir)\n",
    "    \n",
    "    # subsample the data\n",
    "    mask = list(range(num_training, num_training + num_validation))\n",
    "    X_val = X_train[mask]\n",
    "    y_val = y_train[mask]\n",
    "    mask = list(range(num_training))\n",
    "    X_train = X_train[mask]\n",
    "    y_train = y_train[mask]\n",
    "    \n",
    "    # Normalize the data: subtract the mean image and divide by variance\n",
    "    mean = np.array([0.4914, 0.4822, 0.4465])\n",
    "    std = np.array([0.2023, 0.1994, 0.2010])\n",
    "    X_train = np.divide(np.subtract( X_train/255 , mean[np.newaxis,np.newaxis,:]), std[np.newaxis,np.newaxis,:])\n",
    "    X_val = np.divide(np.subtract( X_val/255 , mean[np.newaxis,np.newaxis,:]), std[np.newaxis,np.newaxis,:])\n",
    "\n",
    "    # Preprocessing: reshape the image data into rows\n",
    "    X_train = np.reshape(X_train, (X_train.shape[0], -1))\n",
    "    X_val = np.reshape(X_val, (X_val.shape[0], -1))\n",
    "\n",
    "    # add bias dimension and transform into columns\n",
    "    X_train = np.hstack([X_train, np.ones((X_train.shape[0], 1))])\n",
    "    X_val = np.hstack([X_val, np.ones((X_val.shape[0], 1))])\n",
    "    \n",
    "    return X_train, y_train, X_val, y_val\n",
    "\n",
    "\n",
    "# Invoke the above function to get our data.\n",
    "X_train, y_train, X_val, y_val = get_CIFAR10_data()\n",
    "print('Train data shape: ', X_train.shape)\n",
    "print('Train labels shape: ', y_train.shape)\n",
    "print('Validation data shape: ', X_val.shape)\n",
    "print('Validation labels shape: ', y_val.shape)"
   ]
  },
  {
   "cell_type": "markdown",
   "metadata": {
    "id": "vWxBSsLD7DWv"
   },
   "source": [
    "## Softmax Classifier\n",
    "\n",
    "Here, you implement **softmax_loss_vectorized**. This function just returns the loss and gradient after applying the softmax function.\n"
   ]
  },
  {
   "cell_type": "code",
   "execution_count": 4,
   "metadata": {
    "id": "aFed4lnK7yfC"
   },
   "outputs": [],
   "source": [
    "def softmax_loss_vectorized(W, X, y):\n",
    "    \"\"\"\n",
    "    Softmax loss function, vectorized version.\n",
    "\n",
    "    Inputs have dimension D, there are C classes, and we operate on minibatches\n",
    "    of N examples.\n",
    "\n",
    "    Inputs:\n",
    "    - W: A numpy array of shape (D, C) containing weights.\n",
    "    - X: A numpy array of shape (N, D) containing a minibatch of data.\n",
    "    - y: A numpy array of shape (N,) containing training labels; y[i] = c means\n",
    "    that X[i] has label c, where 0 <= c < C.\n",
    "\n",
    "    Returns a tuple of:\n",
    "    - loss as single float\n",
    "    - gradient with respect to weights W; an array of same shape as W\n",
    "    \"\"\"\n",
    "    # Initialize the loss and gradient to zero.\n",
    "    loss = 0.0\n",
    "    dW = np.zeros_like(W)\n",
    "\n",
    "    #############################################################################\n",
    "    # TODO: Compute the softmax loss and its gradient using no explicit loops.  #\n",
    "    # Store the loss in loss and the gradient in dW. If you are not careful     #\n",
    "    # here, it is easy to run into numeric instability.                         #\n",
    "    #############################################################################\n",
    "\n",
    "    num_train = X.shape[0]\n",
    "\n",
    "    scores = np.dot(X, W)\n",
    "    scores -= np.max(scores, axis=1, keepdims=True)                 # to avoid numerical instability\n",
    "    scores_exp = np.exp(scores)\n",
    "    scores_exp_sum = np.sum(scores_exp, axis=1, keepdims=True)\n",
    "    softmax = scores_exp / scores_exp_sum\n",
    "\n",
    "    loss = np.sum(-np.log(softmax[np.arange(num_train), y]))  \n",
    "    loss /= num_train\n",
    "\n",
    "    # derivative of the softmax function\n",
    "    softmax[np.arange(num_train), y] -= 1\n",
    "    dW = np.dot(X.T, softmax)\n",
    "    dW /= num_train\n",
    "\n",
    "\n",
    "    #############################################################################\n",
    "    #                          END OF YOUR CODE                                 #\n",
    "    #############################################################################\n",
    "\n",
    "    return loss, dW"
   ]
  },
  {
   "cell_type": "markdown",
   "metadata": {
    "id": "DtMJHoylvbEx"
   },
   "source": [
    "## This is the Softmax Linear Classifier.\n",
    "### Implement SGD in the train function.\n",
    "### Write the predict function to evaluate the performance on both the training and validation set\n",
    "### Do not touch the loss function. You already defined it above."
   ]
  },
  {
   "cell_type": "code",
   "execution_count": 5,
   "metadata": {
    "id": "nuhecHcsvJU7"
   },
   "outputs": [],
   "source": [
    "class LinearClassifier(object):\n",
    "\n",
    "    def __init__(self):\n",
    "        self.W = None\n",
    "\n",
    "    def train(self, X, y, learning_rate=1e-3, num_iters=100,\n",
    "            batch_size=200, verbose=False):\n",
    "        \"\"\"\n",
    "        Train this linear classifier using stochastic gradient descent.\n",
    "\n",
    "        Inputs:\n",
    "        - X: A numpy array of shape (N, D) containing training data; there are N\n",
    "            training samples each of dimension D.\n",
    "        - y: A numpy array of shape (N,) containing training labels; y[i] = c\n",
    "            means that X[i] has label 0 <= c < C for C classes.\n",
    "        - learning_rate: (float) learning rate for optimization.\n",
    "        - num_iters: (integer) number of steps to take when optimizing\n",
    "        - batch_size: (integer) number of training examples to use at each step.\n",
    "        - verbose: (boolean) If true, print progress during optimization.\n",
    "\n",
    "        Outputs:\n",
    "        A list containing the value of the loss function at each training iteration.\n",
    "        \"\"\"\n",
    "        num_train, dim = X.shape\n",
    "        num_classes = np.max(y) + 1 # assume y takes values 0...K-1 where K is number of classes\n",
    "        if self.W is None:\n",
    "            # lazily initialize W\n",
    "            self.W = 0.001 * np.random.randn(dim, num_classes)\n",
    "\n",
    "        # Run stochastic gradient descent to optimize W\n",
    "        loss_history = []\n",
    "        for it in range(num_iters):\n",
    "            #########################################################################\n",
    "            # TODO:                                                                 #\n",
    "            # Sample batch_size elements from the training data and their           #\n",
    "            # corresponding labels to use in this round of gradient descent.        #\n",
    "            # Store the data in X_batch and their corresponding labels in           #\n",
    "            # y_batch; after sampling X_batch should have shape (dim, batch_size)   #\n",
    "            # and y_batch should have shape (batch_size,)                           #\n",
    "            #                                                                       #\n",
    "            # Hint: Use np.random.choice to generate indices. Sampling with         #\n",
    "            # replacement is faster than sampling without replacement.              #\n",
    "            #########################################################################\n",
    "            \n",
    "            idx = np.random.choice(num_train, batch_size, replace=True)\n",
    "            X_batch = X[idx]\n",
    "            y_batch = y[idx]\n",
    "\n",
    "            #########################################################################\n",
    "            #                       END OF YOUR CODE                                #\n",
    "            #########################################################################\n",
    "\n",
    "            # evaluate loss and gradient\n",
    "            loss, grad = self.loss(X_batch, y_batch)\n",
    "            loss_history.append(loss)\n",
    "\n",
    "            # perform parameter update\n",
    "            #########################################################################\n",
    "            # TODO:                                                                 #\n",
    "            # Update the weights using the gradient and the learning rate.          #\n",
    "            #########################################################################\n",
    "            self.W -= learning_rate * grad\n",
    "            #########################################################################\n",
    "            #                       END OF YOUR CODE                                #\n",
    "            #########################################################################\n",
    "\n",
    "            if verbose and it % 100 == 0:\n",
    "                print('iteration %d / %d: loss %f' % (it, num_iters, loss))\n",
    "\n",
    "        return loss_history\n",
    "\n",
    "    def predict(self, X):\n",
    "        \"\"\"\n",
    "        Use the trained weights of this linear classifier to predict labels for\n",
    "        data points.\n",
    "\n",
    "        Inputs:\n",
    "        - X: A numpy array of shape (N, D) containing training data; there are N\n",
    "        training samples each of dimension D.\n",
    "\n",
    "        Returns:\n",
    "        - y_pred: Predicted labels for the data in X. y_pred is a 1-dimensional\n",
    "        array of length N, and each element is an integer giving the predicted\n",
    "        class.\n",
    "        \"\"\"\n",
    "        y_pred = np.zeros(X.shape[0])\n",
    "        ###########################################################################\n",
    "        # TODO:                                                                   #\n",
    "        # Implement this method. Store the predicted labels in y_pred.            #\n",
    "        ###########################################################################\n",
    "        y_pred = np.argmax(np.dot(X, self.W), axis=1)\n",
    "        ###########################################################################\n",
    "        #                           END OF YOUR CODE                              #\n",
    "        ###########################################################################\n",
    "        return y_pred\n",
    "  \n",
    "    def loss(self, X_batch, y_batch):\n",
    "        \"\"\"\n",
    "        Compute the loss function and its derivative. \n",
    "        Subclasses will override this.\n",
    "\n",
    "        Inputs:\n",
    "        - X_batch: A numpy array of shape (N, D) containing a minibatch of N\n",
    "            data points; each point has dimension D.\n",
    "        - y_batch: A numpy array of shape (N,) containing labels for the minibatch.\n",
    "\n",
    "        Returns: A tuple containing:\n",
    "        - loss as a single float\n",
    "        - gradient with respect to self.W; an array of the same shape as W\n",
    "        \"\"\"\n",
    "        pass\n",
    "        "
   ]
  },
  {
   "cell_type": "markdown",
   "metadata": {
    "id": "Dzy_rjabwTUY"
   },
   "source": [
    "Finally, the softmax class is inherited from LinearClassifier and uses the softmax_loss_vectorized function as its loss:"
   ]
  },
  {
   "cell_type": "code",
   "execution_count": 6,
   "metadata": {
    "id": "GTqa5eihvOvz"
   },
   "outputs": [],
   "source": [
    "class Softmax(LinearClassifier):\n",
    "    \"\"\" A subclass that uses the Softmax + Cross-entropy loss function \"\"\"\n",
    "\n",
    "    def loss(self, X_batch, y_batch):\n",
    "        return softmax_loss_vectorized(self.W, X_batch, y_batch)"
   ]
  },
  {
   "cell_type": "code",
   "execution_count": 7,
   "metadata": {
    "id": "BomGJP517DWv"
   },
   "outputs": [
    {
     "name": "stdout",
     "output_type": "stream",
     "text": [
      "vectorized loss: 2.301528e+00 computed in 0.011008s\n"
     ]
    }
   ],
   "source": [
    "W = np.random.randn(3073, 10) * 0.0001\n",
    "tic = time.time()\n",
    "loss_vectorized, grad_vectorized = softmax_loss_vectorized(W, X_val, y_val)\n",
    "toc = time.time()\n",
    "print('vectorized loss: %e computed in %fs' % (loss_vectorized, toc - tic))"
   ]
  },
  {
   "cell_type": "code",
   "execution_count": 8,
   "metadata": {
    "id": "H6Pzyyf47DWw"
   },
   "outputs": [
    {
     "name": "stdout",
     "output_type": "stream",
     "text": [
      "iteration 0 / 1500: loss 2.301921\n",
      "iteration 100 / 1500: loss 2.303494\n",
      "iteration 200 / 1500: loss 2.301603\n",
      "iteration 300 / 1500: loss 2.299532\n",
      "iteration 400 / 1500: loss 2.295053\n",
      "iteration 500 / 1500: loss 2.294820\n",
      "iteration 600 / 1500: loss 2.296631\n",
      "iteration 700 / 1500: loss 2.301142\n",
      "iteration 800 / 1500: loss 2.299649\n",
      "iteration 900 / 1500: loss 2.290277\n",
      "iteration 1000 / 1500: loss 2.296781\n",
      "iteration 1100 / 1500: loss 2.295723\n",
      "iteration 1200 / 1500: loss 2.295515\n",
      "iteration 1300 / 1500: loss 2.296611\n",
      "iteration 1400 / 1500: loss 2.295661\n",
      "iteration 0 / 1500: loss 2.302205\n",
      "iteration 100 / 1500: loss 2.173324\n",
      "iteration 200 / 1500: loss 2.123852\n",
      "iteration 300 / 1500: loss 2.082427\n",
      "iteration 400 / 1500: loss 2.106584\n",
      "iteration 500 / 1500: loss 2.009030\n",
      "iteration 600 / 1500: loss 1.981441\n",
      "iteration 700 / 1500: loss 2.058540\n",
      "iteration 800 / 1500: loss 1.993156\n",
      "iteration 900 / 1500: loss 2.023837\n",
      "iteration 1000 / 1500: loss 2.086634\n",
      "iteration 1100 / 1500: loss 1.958124\n",
      "iteration 1200 / 1500: loss 2.026053\n",
      "iteration 1300 / 1500: loss 1.938244\n",
      "iteration 1400 / 1500: loss 1.946551\n",
      "iteration 0 / 1500: loss 2.298930\n",
      "iteration 100 / 1500: loss 2.109694\n",
      "iteration 200 / 1500: loss 2.010313\n",
      "iteration 300 / 1500: loss 2.025662\n",
      "iteration 400 / 1500: loss 1.967267\n",
      "iteration 500 / 1500: loss 1.928538\n",
      "iteration 600 / 1500: loss 1.924760\n",
      "iteration 700 / 1500: loss 1.982438\n",
      "iteration 800 / 1500: loss 1.981405\n",
      "iteration 900 / 1500: loss 1.914955\n",
      "iteration 1000 / 1500: loss 1.943432\n",
      "iteration 1100 / 1500: loss 1.952184\n",
      "iteration 1200 / 1500: loss 1.844468\n",
      "iteration 1300 / 1500: loss 1.847182\n",
      "iteration 1400 / 1500: loss 1.811012\n",
      "iteration 0 / 1500: loss 2.298996\n",
      "iteration 100 / 1500: loss 2.100779\n",
      "iteration 200 / 1500: loss 2.094555\n",
      "iteration 300 / 1500: loss 1.980188\n",
      "iteration 400 / 1500: loss 1.938971\n",
      "iteration 500 / 1500: loss 1.866316\n",
      "iteration 600 / 1500: loss 1.846710\n",
      "iteration 700 / 1500: loss 1.902135\n",
      "iteration 800 / 1500: loss 1.981430\n",
      "iteration 900 / 1500: loss 1.854197\n",
      "iteration 1000 / 1500: loss 1.880400\n",
      "iteration 1100 / 1500: loss 1.939883\n",
      "iteration 1200 / 1500: loss 1.776356\n",
      "iteration 1300 / 1500: loss 1.827032\n",
      "iteration 1400 / 1500: loss 1.834071\n",
      "iteration 0 / 1500: loss 2.300647\n",
      "iteration 100 / 1500: loss 2.046856\n",
      "iteration 200 / 1500: loss 2.031786\n",
      "iteration 300 / 1500: loss 2.019329\n",
      "iteration 400 / 1500: loss 1.875317\n",
      "iteration 500 / 1500: loss 1.841024\n",
      "iteration 600 / 1500: loss 1.943771\n",
      "iteration 700 / 1500: loss 1.898038\n",
      "iteration 800 / 1500: loss 1.823975\n",
      "iteration 900 / 1500: loss 1.919094\n",
      "iteration 1000 / 1500: loss 1.817222\n",
      "iteration 1100 / 1500: loss 1.910122\n",
      "iteration 1200 / 1500: loss 1.864364\n",
      "iteration 1300 / 1500: loss 1.840130\n",
      "iteration 1400 / 1500: loss 1.967382\n",
      "iteration 0 / 1500: loss 2.316496\n",
      "iteration 100 / 1500: loss 2.022745\n",
      "iteration 200 / 1500: loss 1.919136\n",
      "iteration 300 / 1500: loss 1.846044\n",
      "iteration 400 / 1500: loss 1.867407\n",
      "iteration 500 / 1500: loss 1.816468\n",
      "iteration 600 / 1500: loss 2.044474\n",
      "iteration 700 / 1500: loss 1.840159\n",
      "iteration 800 / 1500: loss 1.812310\n",
      "iteration 900 / 1500: loss 1.845908\n",
      "iteration 1000 / 1500: loss 1.753500\n",
      "iteration 1100 / 1500: loss 1.831830\n",
      "iteration 1200 / 1500: loss 1.734113\n",
      "iteration 1300 / 1500: loss 1.879275\n",
      "iteration 1400 / 1500: loss 1.767272\n",
      "iteration 0 / 1500: loss 2.314443\n",
      "iteration 100 / 1500: loss 2.025603\n",
      "iteration 200 / 1500: loss 1.984896\n",
      "iteration 300 / 1500: loss 2.013121\n",
      "iteration 400 / 1500: loss 1.926478\n",
      "iteration 500 / 1500: loss 1.822476\n",
      "iteration 600 / 1500: loss 1.866236\n",
      "iteration 700 / 1500: loss 1.834099\n",
      "iteration 800 / 1500: loss 1.787069\n",
      "iteration 900 / 1500: loss 1.790022\n",
      "iteration 1000 / 1500: loss 1.845370\n",
      "iteration 1100 / 1500: loss 1.801565\n",
      "iteration 1200 / 1500: loss 1.817866\n",
      "iteration 1300 / 1500: loss 1.831390\n",
      "iteration 1400 / 1500: loss 1.771501\n",
      "iteration 0 / 1500: loss 2.302700\n",
      "iteration 100 / 1500: loss 1.996086\n",
      "iteration 200 / 1500: loss 1.979153\n",
      "iteration 300 / 1500: loss 1.920371\n",
      "iteration 400 / 1500: loss 1.874390\n",
      "iteration 500 / 1500: loss 1.817956\n",
      "iteration 600 / 1500: loss 1.795755\n",
      "iteration 700 / 1500: loss 1.900001\n",
      "iteration 800 / 1500: loss 1.891310\n",
      "iteration 900 / 1500: loss 1.813574\n",
      "iteration 1000 / 1500: loss 1.760896\n",
      "iteration 1100 / 1500: loss 1.763510\n",
      "iteration 1200 / 1500: loss 1.812556\n",
      "iteration 1300 / 1500: loss 1.729624\n",
      "iteration 1400 / 1500: loss 1.844231\n",
      "iteration 0 / 1500: loss 2.306783\n",
      "iteration 100 / 1500: loss 2.106314\n",
      "iteration 200 / 1500: loss 1.951170\n",
      "iteration 300 / 1500: loss 1.826733\n",
      "iteration 400 / 1500: loss 1.876134\n",
      "iteration 500 / 1500: loss 1.937976\n",
      "iteration 600 / 1500: loss 1.771320\n",
      "iteration 700 / 1500: loss 1.894436\n",
      "iteration 800 / 1500: loss 1.806506\n",
      "iteration 900 / 1500: loss 1.821391\n",
      "iteration 1000 / 1500: loss 1.792266\n",
      "iteration 1100 / 1500: loss 1.845478\n",
      "iteration 1200 / 1500: loss 1.882721\n",
      "iteration 1300 / 1500: loss 1.916777\n",
      "iteration 1400 / 1500: loss 1.882453\n",
      "iteration 0 / 1500: loss 2.299836\n",
      "iteration 100 / 1500: loss 2.018315\n",
      "iteration 200 / 1500: loss 1.976106\n",
      "iteration 300 / 1500: loss 1.896124\n",
      "iteration 400 / 1500: loss 1.844205\n",
      "iteration 500 / 1500: loss 1.878164\n",
      "iteration 600 / 1500: loss 1.777710\n",
      "iteration 700 / 1500: loss 1.817413\n",
      "iteration 800 / 1500: loss 1.838291\n",
      "iteration 900 / 1500: loss 1.682015\n",
      "iteration 1000 / 1500: loss 1.856417\n",
      "iteration 1100 / 1500: loss 1.733831\n",
      "iteration 1200 / 1500: loss 1.852433\n",
      "iteration 1300 / 1500: loss 1.827848\n",
      "iteration 1400 / 1500: loss 1.833332\n",
      "lr 1.000000e-07 train accuracy: 0.116245 val accuracy: 0.126000\n",
      "lr 5.564444e-05 train accuracy: 0.341122 val accuracy: 0.341000\n",
      "lr 1.111889e-04 train accuracy: 0.361061 val accuracy: 0.367000\n",
      "lr 1.667333e-04 train accuracy: 0.373653 val accuracy: 0.378000\n",
      "lr 2.222778e-04 train accuracy: 0.379776 val accuracy: 0.390000\n",
      "lr 2.778222e-04 train accuracy: 0.385490 val accuracy: 0.398000\n",
      "lr 3.333667e-04 train accuracy: 0.388184 val accuracy: 0.393000\n",
      "lr 3.889111e-04 train accuracy: 0.390184 val accuracy: 0.398000\n",
      "lr 4.444556e-04 train accuracy: 0.394041 val accuracy: 0.396000\n",
      "lr 5.000000e-04 train accuracy: 0.396469 val accuracy: 0.400000\n",
      "best validation accuracy achieved during cross-validation: 0.400000\n"
     ]
    }
   ],
   "source": [
    "# Use the validation set to tune hyperparameters (learning rate). \n",
    "# You should experiment with different ranges for the learning\n",
    "# rates; if you are careful you should be able to\n",
    "# get a classification accuracy of over 0.35 on the validation set.\n",
    "results = {}\n",
    "best_val = -1\n",
    "best_softmax = None\n",
    "learning_rates = [1e-7, 5e-4]\n",
    "\n",
    "################################################################################\n",
    "# TODO:                                                                        #\n",
    "# Use the validation set to set the learning.                                  #\n",
    "# Save the best trained softmax classifer in best_softmax.                     #\n",
    "################################################################################\n",
    "\n",
    "for lr in np.linspace(learning_rates[0], learning_rates[1], num=10):\n",
    "    softmax_classifier = Softmax()\n",
    "    softmax_classifier.train(X_train, y_train, learning_rate=lr, num_iters=1500, verbose=True)\n",
    "    y_train_pred = softmax_classifier.predict(X_train)\n",
    "    y_val_pred = softmax_classifier.predict(X_val)\n",
    "    train_accuracy = np.mean(y_train == y_train_pred)\n",
    "    val_accuracy = np.mean(y_val == y_val_pred)\n",
    "    results[lr] = (train_accuracy, val_accuracy)\n",
    "    if val_accuracy > best_val:\n",
    "        best_val = val_accuracy\n",
    "        best_softmax = softmax_classifier\n",
    "\n",
    "################################################################################\n",
    "#                              END OF YOUR CODE                                #\n",
    "################################################################################\n",
    "    \n",
    "# Print out results.\n",
    "for lr in sorted(results):\n",
    "    train_accuracy, val_accuracy = results[lr]\n",
    "    print('lr %e train accuracy: %f val accuracy: %f' % (\n",
    "                lr, train_accuracy, val_accuracy))\n",
    "    \n",
    "print('best validation accuracy achieved during cross-validation: %f' % best_val)"
   ]
  },
  {
   "cell_type": "code",
   "execution_count": 9,
   "metadata": {
    "id": "Vpj-_mvS7DWx"
   },
   "outputs": [
    {
     "name": "stdout",
     "output_type": "stream",
     "text": [
      "softmax on raw pixels final test set accuracy: 0.400000\n"
     ]
    }
   ],
   "source": [
    "# evaluate on val set\n",
    "# Evaluate the best softmax on val set\n",
    "y_val_pred = best_softmax.predict(X_val)\n",
    "val_accuracy = np.mean(y_val == y_val_pred)\n",
    "print('softmax on raw pixels final test set accuracy: %f' % (val_accuracy, ))"
   ]
  },
  {
   "cell_type": "markdown",
   "metadata": {
    "id": "CI4FL2_a7DWx"
   },
   "source": [
    "Save the best_softmax weights using pickle:"
   ]
  },
  {
   "cell_type": "code",
   "execution_count": 10,
   "metadata": {
    "id": "U4uK5bgB7DWy"
   },
   "outputs": [],
   "source": [
    "# with open('drive/MyDrive/Colab Notebooks/softmax_weights.pkl', 'wb') as f:\n",
    "with open('softmax_weights.pkl', 'wb') as f:\n",
    "    pickle.dump(best_softmax.W, f)"
   ]
  },
  {
   "cell_type": "markdown",
   "metadata": {
    "id": "XrQpxEbY7DWz"
   },
   "source": [
    "Load the best_softmax weights using pickle:"
   ]
  },
  {
   "cell_type": "code",
   "execution_count": 11,
   "metadata": {
    "id": "P1VkRfIl7DWz"
   },
   "outputs": [],
   "source": [
    "with open('softmax_weights.pkl', 'rb') as f:\n",
    "    W = pickle.load(f)\n",
    "new_softmax = Softmax()\n",
    "new_softmax.W = W.copy()"
   ]
  },
  {
   "cell_type": "markdown",
   "metadata": {
    "id": "2W7b80F_xkWj"
   },
   "source": [
    "Below is the code to visualize the weights learned for different classes. Try to notice the interesting patterns."
   ]
  },
  {
   "cell_type": "code",
   "execution_count": 12,
   "metadata": {
    "id": "NTkVGxZS7DWz"
   },
   "outputs": [
    {
     "data": {
      "image/png": "[encoded data removed]",
      "text/plain": [
       "<Figure size 1000x800 with 10 Axes>"
      ]
     },
     "metadata": {},
     "output_type": "display_data"
    }
   ],
   "source": [
    "# Visualize the learned weights for each class\n",
    "w = best_softmax.W[:-1,:] # strip out the bias\n",
    "w = w.reshape(32, 32, 3, 10)\n",
    "\n",
    "w_min, w_max = np.min(w), np.max(w)\n",
    "\n",
    "classes = ['plane', 'car', 'bird', 'cat', 'deer', 'dog', 'frog', 'horse', 'ship', 'truck']\n",
    "for i in range(10):\n",
    "    plt.subplot(2, 5, i + 1)\n",
    "    \n",
    "    # Rescale the weights to be between 0 and 255\n",
    "    wimg = 255.0 * (w[:, :, :, i].squeeze() - w_min) / (w_max - w_min)\n",
    "    plt.imshow(wimg.astype('uint8'))\n",
    "    plt.axis('off')\n",
    "    plt.title(classes[i])"
   ]
  },
  {
   "cell_type": "code",
   "execution_count": null,
   "metadata": {
    "id": "oYKmBFJb_Z2p"
   },
   "outputs": [],
   "source": []
  }
 ],
 "metadata": {
  "colab": {
   "collapsed_sections": [],
   "name": "Softmax.ipynb",
   "provenance": []
  },
  "kernelspec": {
   "display_name": "dlav",
   "language": "python",
   "name": "python3"
  },
  "language_info": {
   "codemirror_mode": {
    "name": "ipython",
    "version": 3
   },
   "file_extension": ".py",
   "mimetype": "text/x-python",
   "name": "python",
   "nbconvert_exporter": "python",
   "pygments_lexer": "ipython3",
   "version": "3.13.2"
  }
 },
 "nbformat": 4,
 "nbformat_minor": 0
}
